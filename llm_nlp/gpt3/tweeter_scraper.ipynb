{
 "cells": [
  {
   "cell_type": "code",
   "execution_count": null,
   "id": "d8df04be-16c0-4dc9-be97-26ee3f8ff834",
   "metadata": {},
   "outputs": [],
   "source": [
    "# snscrape --jsonl --max-results 10000 --since \"2023-01-01\" twitter-search 'from:\"elonmusk\" until:\"2023-05-29\"'> {}-tweets.json"
   ]
  },
  {
   "cell_type": "code",
   "execution_count": 1,
   "id": "99e0cf00-bc54-40dd-a77a-3a55b98ba798",
   "metadata": {},
   "outputs": [],
   "source": [
    "import os\n",
    "import pandas as pd\n",
    "import json\n",
    "def get_tweet_by_date(username,since_date,until_date,max_count):\n",
    "    os.system(\"snscrape --jsonl --max-results {} --since {} twitter-search 'from:{} until:{}'> {}-tweets.json\".format(max_count,since_date,username,until_date,username))\n",
    "    # Reads the json generated from the CLI command above and creates a pandas dataframe\n",
    "    tweets_df = pd.read_json('{}-tweets.json'.format(username), lines=True)\n",
    "    DATASET_COLUMNS=['date', 'id', 'rawContent', 'retweetedTweet', 'quotedTweet', 'hashtags', 'replyCount', 'retweetCount', 'likeCount', 'quoteCount', 'viewCount']\n",
    "    new_df = tweets_df[DATASET_COLUMNS].copy()\n",
    "    return new_df"
   ]
  },
  {
   "cell_type": "code",
   "execution_count": 2,
   "id": "f5146aa9-1b4c-4641-8d67-709e825f5c6e",
   "metadata": {},
   "outputs": [],
   "source": [
    "import nltk\n",
    "import string\n",
    "import re\n",
    "from nltk.corpus import stopwords\n",
    "# nltk.download('stopwords')\n",
    "stop_words = set(stopwords.words('english'))\n",
    "\n",
    "def clean_text(text):\n",
    "    text = str(text).lower()\n",
    "    text = text.replace('@', 'at')\n",
    "    pat = r\"[{}]\".format(string.punctuation) \n",
    "    text = re.sub(pat, ' ', text) \n",
    "    text = re.sub('  +', ' ', text) \n",
    "    text = re.sub('https?://|www\\.', '', text)  \n",
    "    text = re.sub('\\n', '', text)\n",
    "    # text = re.sub('\\w*\\d\\w*', '', text) \n",
    "    # print(text)\n",
    "    # text = text.replace(u'\\ud800', '')\n",
    "    # text = text.replace('\\x80', '?')\n",
    "    # text = text.translate({i: None for i in range(128, 256)})\n",
    "    # fixed_text = fix_nonascii(text)\n",
    "    text = re.sub(r'[^\\x00-\\x7f]',r'',text)\n",
    "    # text = fixed_text\n",
    "    # print(text)\n",
    "    \n",
    "    # remove stopwords\n",
    "    text = ' '.join([word for word in text.split() if word not in stop_words])\n",
    "    if len(text) == 0:\n",
    "        text = \" \"\n",
    "    return text"
   ]
  },
  {
   "cell_type": "code",
   "execution_count": null,
   "id": "0dde0266-d48a-44de-a4e1-f1f240ab7392",
   "metadata": {},
   "outputs": [],
   "source": [
    "import os\n",
    "import pandas as pd\n",
    "import time\n",
    "from datetime import datetime\n",
    "\n",
    "username = \"elonmusk\"\n",
    "since_date = \"2023-01-01\"\n",
    "until_date = \"2023-05-29\"\n",
    "max_count = 10000\n",
    "\n",
    "# Get current date and time\n",
    "now = datetime.now()\n",
    "\n",
    "# Format current date as string\n",
    "date_string = now.strftime(\"%Y-%m-%d\")\n",
    "print(date_string)  # Output: 2023-04-15\n",
    "\n",
    "tweet_df = get_tweet_by_date(username,since_date,until_date,max_count)\n",
    "print(tweet_df.shape)\n",
    "print('Missing values counts')\n",
    "print(tweet_df.isnull().sum())\n",
    "# remove stop words\n",
    "tweet_df['clean'] = tweet_df['rawContent'].apply(lambda row: clean_text(row))\n",
    "# print(tweet_df.head())\n",
    "tweet_df.to_csv('{}_tweets_29_{}.csv'.format(username,date_string), index=False)"
   ]
  },
  {
   "cell_type": "code",
   "execution_count": null,
   "id": "4fd45b71-bb72-47c1-b490-4a1808987cd1",
   "metadata": {},
   "outputs": [],
   "source": []
  }
 ],
 "metadata": {
  "kernelspec": {
   "display_name": "Python 3 (ipykernel)",
   "language": "python",
   "name": "python3"
  },
  "language_info": {
   "codemirror_mode": {
    "name": "ipython",
    "version": 3
   },
   "file_extension": ".py",
   "mimetype": "text/x-python",
   "name": "python",
   "nbconvert_exporter": "python",
   "pygments_lexer": "ipython3",
   "version": "3.9.13"
  }
 },
 "nbformat": 4,
 "nbformat_minor": 5
}
